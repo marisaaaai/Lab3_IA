{
 "cells": [
  {
   "cell_type": "code",
   "execution_count": 55,
   "id": "5b34a73d",
   "metadata": {},
   "outputs": [],
   "source": [
    "#Importando paquetes\n",
    "from sklearn.datasets import make_classification\n",
    "from sklearn.preprocessing import MinMaxScaler\n",
    "import numpy as np\n",
    "X, Y = make_classification(n_samples=50,\n",
    "    n_features=3, n_redundant=0, n_informative=3, n_classes=2)"
   ]
  },
  {
   "cell_type": "code",
   "execution_count": 56,
   "id": "c3e8d6ac",
   "metadata": {},
   "outputs": [
    {
     "data": {
      "text/plain": [
       "<matplotlib.collections.PathCollection at 0x20dfb7d4a00>"
      ]
     },
     "execution_count": 56,
     "metadata": {},
     "output_type": "execute_result"
    },
    {
     "data": {
      "image/png": "[encoded data removed]",
      "text/plain": [
       "<Figure size 432x288 with 1 Axes>"
      ]
     },
     "metadata": {
      "needs_background": "light"
     },
     "output_type": "display_data"
    }
   ],
   "source": [
    "#Visualizando datos\n",
    "import matplotlib.pyplot as plt\n",
    "plt.title(\"Datos, 3 features y 2 clases\", fontsize=\"large\")\n",
    "plt.scatter(X[:, 0], X[:, 1], marker=\"o\", c=Y, s=25, edgecolor=\"k\")"
   ]
  },
  {
   "cell_type": "code",
   "execution_count": 57,
   "id": "e46470d6",
   "metadata": {},
   "outputs": [],
   "source": [
    "#Train y Test\n",
    "from sklearn.model_selection import train_test_split\n",
    "X_train, X_test, Y_train, Y_test = train_test_split(X, Y, test_size=0.3, random_state=42)\n",
    "puntosAparte= np.array([[1, 0, 1]])"
   ]
  },
  {
   "cell_type": "code",
   "execution_count": 58,
   "id": "d559565e",
   "metadata": {},
   "outputs": [],
   "source": [
    "#Cambiandole de forma a los y (train y test)\n",
    "ytrain2d = np.reshape(Y_train,(-1,1))\n",
    "ytest2d = np. reshape(Y_test,(-1,1))"
   ]
  },
  {
   "cell_type": "code",
   "execution_count": 59,
   "id": "a868e927",
   "metadata": {},
   "outputs": [],
   "source": [
    "#Inicializar matriz\n",
    "def initialize_nn(X):\n",
    "\n",
    "  np.random.seed(999)\n",
    "\n",
    "  w = np.random.randn(X.shape[1], 1) * 0.01\n",
    "  b = 0\n",
    "\n",
    "  return {'w': w, 'b': b}"
   ]
  },
  {
   "cell_type": "code",
   "execution_count": 60,
   "id": "85fee62d",
   "metadata": {},
   "outputs": [],
   "source": [
    "#Forward feed\n",
    "def forward_prop(X, params):\n",
    "\n",
    "  w = params['w']\n",
    "  b = params['b']\n",
    "\n",
    "  z = np.dot(X, w) + b\n",
    "  a = sigmoid(z)\n",
    "  \n",
    "  return {'z': z, 'a': a}"
   ]
  },
  {
   "cell_type": "code",
   "execution_count": 61,
   "id": "2fe98d16",
   "metadata": {},
   "outputs": [],
   "source": [
    "#Funcion de activacion\n",
    "def sigmoid(Z):\n",
    "  \n",
    "  return 1/(1+np.power(np.e, -Z))"
   ]
  },
  {
   "cell_type": "code",
   "execution_count": 62,
   "id": "914ca8c4",
   "metadata": {},
   "outputs": [],
   "source": [
    "#Calcular Perdida\n",
    "\n",
    "from scipy.special import xlogy\n",
    "\n",
    "\n",
    "def calculate_loss(cache, y):\n",
    "\n",
    "\n",
    "  a = cache['a']\n",
    "  m = y.shape[0]\n",
    "\n",
    "  return -1/m*np.sum(xlogy(y, a) + xlogy(1-y, 1-a))"
   ]
  },
  {
   "cell_type": "code",
   "execution_count": 63,
   "id": "ac7064a7",
   "metadata": {},
   "outputs": [],
   "source": [
    "#Backward proopagation\n",
    "def backward_prop(X, y, cache):\n",
    "\n",
    "  \n",
    "\n",
    "  z = cache['z']\n",
    "  a = cache['a']\n",
    "  m = X.shape[0]\n",
    "\n",
    "  dz = a - y\n",
    "  dw = (1./m)*np.dot(X.T, dz)\n",
    "  db = (1./m)*np.sum(dz)\n",
    "\n",
    "  return {'dz': dz, 'dw': dw, 'db': db}"
   ]
  },
  {
   "cell_type": "code",
   "execution_count": 88,
   "id": "0be938ed",
   "metadata": {},
   "outputs": [],
   "source": [
    "#Redefinir los pesos\n",
    "def cambioPeso(params, changes, learning_rate=0.01):\n",
    "\n",
    "  \n",
    "\n",
    "  w = params['w']\n",
    "  b = params['b']\n",
    "  dw = changes['dw']\n",
    "  db = changes['db']\n",
    "\n",
    "  w -= learning_rate*dw\n",
    "  b -= learning_rate*db\n",
    "\n",
    "  return {'w': w, 'b': b}"
   ]
  },
  {
   "cell_type": "code",
   "execution_count": 65,
   "id": "9c5f0b1e",
   "metadata": {},
   "outputs": [],
   "source": [
    "#Entrenando la red\n",
    "epochs = 1000\n",
    "learning_rate = 5e-3\n",
    "\n",
    "params = initialize_nn(X_train)\n",
    "\n",
    "for i in range(epochs):\n",
    "  cache = forward_prop(X_train, params)\n",
    "  loss = calculate_loss(cache, ytrain2d)\n",
    "  updates = backward_prop(X_train, ytrain2d, cache)\n",
    "  params = cambioPeso(params, updates, learning_rate=learning_rate)"
   ]
  },
  {
   "cell_type": "code",
   "execution_count": 106,
   "id": "42daf2df",
   "metadata": {},
   "outputs": [
    {
     "name": "stdout",
     "output_type": "stream",
     "text": [
      "Epoch: 0\tLoss:0.69474\tTraining Accuracy:0.40000\tTesting accuracy:0.33333\n",
      "Epoch: 100\tLoss:0.61322\tTraining Accuracy:0.68571\tTesting accuracy:0.60000\n",
      "Epoch: 200\tLoss:0.56657\tTraining Accuracy:0.68571\tTesting accuracy:0.60000\n",
      "Epoch: 300\tLoss:0.53745\tTraining Accuracy:0.68571\tTesting accuracy:0.60000\n",
      "Epoch: 400\tLoss:0.51788\tTraining Accuracy:0.68571\tTesting accuracy:0.60000\n",
      "Epoch: 500\tLoss:0.50398\tTraining Accuracy:0.68571\tTesting accuracy:0.60000\n",
      "Epoch: 600\tLoss:0.49366\tTraining Accuracy:0.68571\tTesting accuracy:0.60000\n",
      "Epoch: 700\tLoss:0.48573\tTraining Accuracy:0.68571\tTesting accuracy:0.60000\n",
      "Epoch: 800\tLoss:0.47946\tTraining Accuracy:0.68571\tTesting accuracy:0.60000\n",
      "Epoch: 900\tLoss:0.47439\tTraining Accuracy:0.68571\tTesting accuracy:0.60000\n"
     ]
    }
   ],
   "source": [
    "#Prediccion\n",
    "from sklearn.metrics import accuracy_score\n",
    "params= initialize_nn(X_train)\n",
    "for i in range(epochs):\n",
    "    cache= forward_prop(X_train, params)\n",
    "    loss=calculate_loss(cache, ytrain2d)\n",
    "    updates=backward_prop(X_train, ytrain2d,cache)\n",
    "    params=cambioPeso(params, updates, learning_rate=learning_rate)\n",
    "    \n",
    "    if i%(epochs/10) == 0:\n",
    "        print('Epoch: {}\\tLoss:{:.5f}'.format(i,loss), end='')\n",
    "        train_cache= np.where(cache['a']>0.5,1,0)\n",
    "        print('\\tTraining Accuracy:{:.5f}'.format(accuracy_score(ytrain2d, train_cache)), end='')\n",
    "        test_cache = forward_prop(X_test,params)['a']\n",
    "        test_cache = np.where(test_cache>=0.5,1,0)\n",
    "        print('\\tTesting accuracy:{:.5f}'.format(accuracy_score(ytest2d, test_cache)))"
   ]
  },
  {
   "cell_type": "markdown",
   "id": "e2bc8084",
   "metadata": {},
   "source": [
    "## Se observa una precision del 60%"
   ]
  },
  {
   "cell_type": "code",
   "execution_count": 118,
   "id": "80ccdd11",
   "metadata": {},
   "outputs": [
    {
     "name": "stdout",
     "output_type": "stream",
     "text": [
      "Epoch: 0\tLoss:0.69309\tTesting accuracy:0.60000\n",
      "Epoch: 100\tLoss:0.69877\tTesting accuracy:0.60000\n",
      "Epoch: 200\tLoss:0.71801\tTesting accuracy:0.60000\n",
      "Epoch: 300\tLoss:0.74459\tTesting accuracy:0.60000\n",
      "Epoch: 400\tLoss:0.77467\tTesting accuracy:0.60000\n",
      "Epoch: 500\tLoss:0.80595\tTesting accuracy:0.60000\n",
      "Epoch: 600\tLoss:0.83712\tTesting accuracy:0.60000\n",
      "Epoch: 700\tLoss:0.86746\tTesting accuracy:0.60000\n",
      "Epoch: 800\tLoss:0.89657\tTesting accuracy:0.60000\n",
      "Epoch: 900\tLoss:0.92429\tTesting accuracy:0.60000\n"
     ]
    }
   ],
   "source": [
    "#Prediccion usando nuevos puntos\n",
    "from sklearn.metrics import accuracy_score\n",
    "params= initialize_nn(puntosAparte)\n",
    "for i in range(epochs):\n",
    "    cache= forward_prop(puntosAparte, params)\n",
    "    loss=calculate_loss(cache, ytrain2d)\n",
    "    updates=backward_prop(X_train, ytrain2d,cache)\n",
    "    params=cambioPeso(params, updates, learning_rate=learning_rate)\n",
    "    \n",
    "    if i%(epochs/10) == 0:\n",
    "        print('Epoch: {}\\tLoss:{:.5f}'.format(i,loss), end='')\n",
    "        train_cache= np.where(cache['a']>0.5,1,0)\n",
    "        print('\\tTesting accuracy:{:.5f}'.format(accuracy_score(ytest2d, test_cache)))"
   ]
  },
  {
   "cell_type": "code",
   "execution_count": null,
   "id": "ca2b3b85",
   "metadata": {},
   "outputs": [],
   "source": []
  }
 ],
 "metadata": {
  "kernelspec": {
   "display_name": "Python 3 (ipykernel)",
   "language": "python",
   "name": "python3"
  },
  "language_info": {
   "codemirror_mode": {
    "name": "ipython",
    "version": 3
   },
   "file_extension": ".py",
   "mimetype": "text/x-python",
   "name": "python",
   "nbconvert_exporter": "python",
   "pygments_lexer": "ipython3",
   "version": "3.9.7"
  }
 },
 "nbformat": 4,
 "nbformat_minor": 5
}
