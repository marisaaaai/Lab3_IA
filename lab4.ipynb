{
 "cells": [
  {
   "cell_type": "markdown",
   "id": "77f2177e",
   "metadata": {},
   "source": [
    "## Laboratorio 4\n",
    "### Participantes\n",
    "<ul>\n",
    "    <li> Marisa Montoya 19169 </li>\n",
    "    <li> Majo Morales 19145 </li>\n",
    "    <li> Luis Garcia 19344 </li>"
   ]
  },
  {
   "cell_type": "code",
   "execution_count": 6,
   "id": "2e66ae4a",
   "metadata": {},
   "outputs": [
    {
     "data": {
      "text/plain": [
       "(array([[ 1.50277704e+00,  7.32792269e-01,  8.02185292e-01],\n",
       "        [-1.28856280e+00, -1.54018590e+00, -5.46833520e-02],\n",
       "        [-1.88602604e+00, -3.14535592e-02, -1.45619543e-01],\n",
       "        [-5.28642836e-01,  2.30542690e-01, -1.09195104e+00],\n",
       "        [-1.23045897e+00,  2.88400444e-01,  1.19864471e+00],\n",
       "        [-1.77244439e-01,  1.21824337e+00, -1.48262638e+00],\n",
       "        [-1.37846015e-01,  3.64354298e-01, -1.78027767e+00],\n",
       "        [-5.49617209e-01,  4.18900992e-01, -1.50029787e+00],\n",
       "        [ 7.11249900e-01,  8.35362586e-01,  7.93803500e-01],\n",
       "        [-2.28712516e+00, -1.91603845e+00,  3.30721241e-01],\n",
       "        [-2.12681800e+00, -4.99205774e-01,  3.27852154e+00],\n",
       "        [-1.92141342e-01, -2.08962962e-03, -8.26680897e-01],\n",
       "        [-2.92267794e+00, -4.70702491e-01,  1.53494243e+00],\n",
       "        [-1.53984576e+00,  4.46104154e-01,  1.61424904e+00],\n",
       "        [-1.52574879e+00,  1.46280850e-01,  5.68772933e-01],\n",
       "        [-7.87999465e-01,  2.41276980e+00,  8.16924315e-01],\n",
       "        [ 1.04270342e-01,  1.54919154e+00, -3.40459337e-01],\n",
       "        [-4.21537197e-01,  2.38096643e+00,  1.21492284e+00],\n",
       "        [ 4.34721934e-01,  3.18230331e+00,  2.66096948e+00],\n",
       "        [-1.23598890e+00,  8.37170709e-01,  6.41528927e-01],\n",
       "        [-1.40556529e+00, -1.04990785e+00,  1.54447054e+00],\n",
       "        [ 3.56245091e+00,  2.59005410e+00,  1.63517870e+00],\n",
       "        [-4.20006319e-01,  7.52611182e-01, -1.17605634e+00],\n",
       "        [ 1.18212153e-01,  1.54952827e+00, -2.98475265e-01],\n",
       "        [-1.68135215e+00,  1.90764484e+00,  2.13848965e+00],\n",
       "        [-2.26074163e-01,  7.05259639e-01, -2.16306095e+00],\n",
       "        [-4.28052398e-01, -8.20962110e-02,  3.78836967e-01],\n",
       "        [-7.20824532e-01, -1.79014274e-02,  1.11127461e+00],\n",
       "        [-4.13212042e-01, -1.03145299e+00, -4.48140226e-02],\n",
       "        [ 3.01804285e+00,  1.11166507e+00,  1.01141571e+00],\n",
       "        [ 3.41610004e-01,  1.07187148e+00,  1.76282529e+00],\n",
       "        [-4.75432793e-01,  6.19572955e-01, -8.04014485e-01],\n",
       "        [ 1.24011975e+00,  2.33497349e+00, -6.86351498e-01],\n",
       "        [-1.13245185e+00, -1.30072017e+00,  8.58058511e-01],\n",
       "        [ 1.91794799e+00,  2.17746056e+00,  1.72098111e+00],\n",
       "        [-3.89131880e-01,  2.13254854e-01,  1.11360838e+00],\n",
       "        [ 1.68809219e+00,  1.40063976e+00,  3.99218889e-01],\n",
       "        [-1.80835681e+00,  2.26842854e-01,  2.21579287e+00],\n",
       "        [ 1.14966987e+00,  2.67737432e+00,  1.97791125e+00],\n",
       "        [ 5.09571532e-01,  3.59600305e+00, -7.48656768e-01],\n",
       "        [-2.12542034e+00, -6.63317662e-01, -3.55961727e-01],\n",
       "        [ 7.37244451e-01,  1.34942861e+00,  1.30780432e+00],\n",
       "        [-1.42285831e+00,  1.09438828e+00,  9.38981513e-01],\n",
       "        [-2.12572699e-02,  1.52555476e-01, -1.66418420e+00],\n",
       "        [-1.97038996e+00, -4.05233646e-02,  2.61156682e+00],\n",
       "        [-8.59668288e-01,  6.79348570e-01, -1.69780502e+00],\n",
       "        [-1.24229567e-01,  1.28443135e+00, -2.68822252e-01],\n",
       "        [-2.12989021e+00, -1.10759012e+00,  1.47446229e+00],\n",
       "        [-7.32036285e-01, -1.84077305e+00, -8.60025697e-01],\n",
       "        [ 8.22898973e-01,  1.20258323e+00,  1.24294139e+00]]),\n",
       " array([1, 1, 0, 0, 0, 0, 0, 0, 1, 1, 1, 0, 0, 0, 1, 0, 0, 0, 1, 1, 1, 1,\n",
       "        0, 0, 1, 0, 1, 1, 1, 1, 1, 0, 0, 1, 1, 1, 1, 0, 1, 0, 1, 1, 0, 0,\n",
       "        0, 0, 0, 0, 1, 1]))"
      ]
     },
     "execution_count": 6,
     "metadata": {},
     "output_type": "execute_result"
    }
   ],
   "source": [
    "from sklearn import datasets\n",
    "data = sklearn.datasets.make_classification(n_samples=50, n_features=3, n_informative=3, n_redundant=0, n_classes=2)\n",
    "\n",
    "data\n"
   ]
  },
  {
   "cell_type": "code",
   "execution_count": 10,
   "id": "ae7cdd34",
   "metadata": {},
   "outputs": [
    {
     "data": {
      "text/plain": [
       "50"
      ]
     },
     "execution_count": 10,
     "metadata": {},
     "output_type": "execute_result"
    }
   ],
   "source": [
    "X = data[0]\n",
    "Y = data[1]\n"
   ]
  },
  {
   "cell_type": "code",
   "execution_count": 11,
   "id": "4db40131",
   "metadata": {},
   "outputs": [],
   "source": [
    "import numpy as np\n",
    "import pandas as pd\n",
    "from sklearn.datasets import load_iris\n",
    "from sklearn.model_selection import train_test_split\n",
    "import matplotlib.pyplot as plt"
   ]
  },
  {
   "cell_type": "code",
   "execution_count": 12,
   "id": "a6537994",
   "metadata": {},
   "outputs": [],
   "source": [
    "X_train, X_test, y_train, y_test = train_test_split(X, Y, test_size=20, random_state=4)\n"
   ]
  },
  {
   "cell_type": "code",
   "execution_count": 13,
   "id": "352fa285",
   "metadata": {},
   "outputs": [],
   "source": [
    "# Initialize variables\n",
    "learning_rate = 0.1\n",
    "iterations = 5000\n",
    "N = y_train.size\n",
    "\n",
    "# number of input features\n",
    "input_size = 3\n",
    "\n",
    "# number of hidden layers neurons\n",
    "hidden_size = 2 \n",
    "\n",
    "# number of neurons at the output layer\n",
    "output_size = 3  \n",
    "\n",
    "results = pd.DataFrame(columns=[\"mse\", \"accuracy\"])"
   ]
  },
  {
   "cell_type": "code",
   "execution_count": 14,
   "id": "deafee9f",
   "metadata": {},
   "outputs": [],
   "source": [
    "# Initialize weights\n",
    "np.random.seed(10)\n",
    "\n",
    "# initializing weight for the hidden layer\n",
    "W1 = np.random.normal(scale=0.5, size=(input_size, hidden_size))   \n",
    "\n",
    "# initializing weight for the output layer\n",
    "W2 = np.random.normal(scale=0.5, size=(hidden_size , output_size)) "
   ]
  },
  {
   "cell_type": "code",
   "execution_count": 15,
   "id": "30fea561",
   "metadata": {},
   "outputs": [],
   "source": [
    "def sigmoid(x):\n",
    "    return 1 / (1 + np.exp(-x))\n",
    "\n",
    "def mean_squared_error(y_pred, y_true):\n",
    "    return ((y_pred - y_true)**2).sum() / (2*y_pred.size)\n",
    "    \n",
    "def accuracy(y_pred, y_true):\n",
    "    acc = y_pred.argmax(axis=1) == y_true.argmax(axis=1)\n",
    "    return acc.mean()"
   ]
  },
  {
   "cell_type": "code",
   "execution_count": 20,
   "id": "6ac29743",
   "metadata": {},
   "outputs": [
    {
     "name": "stdout",
     "output_type": "stream",
     "text": [
      "[[0.5044963  0.51718216 0.53670452]\n",
      " [0.5137487  0.51354845 0.51916948]\n",
      " [0.49991827 0.52120438 0.55062702]\n",
      " [0.51232064 0.54717452 0.59990658]\n",
      " [0.4995202  0.51865446 0.54495634]\n",
      " [0.49291928 0.53328999 0.58565589]\n",
      " [0.50638732 0.52957619 0.5642911 ]\n",
      " [0.49324114 0.53901835 0.59865506]\n",
      " [0.49720023 0.52121084 0.55322675]\n",
      " [0.50923842 0.51397622 0.52452021]\n",
      " [0.50643928 0.53500189 0.57700672]\n",
      " [0.50224456 0.52111855 0.54820929]\n",
      " [0.49961499 0.52185467 0.5524564 ]\n",
      " [0.49734451 0.53941075 0.59576784]\n",
      " [0.5079172  0.52641221 0.55536246]\n",
      " [0.50898831 0.54532196 0.59869383]\n",
      " [0.50980796 0.53930585 0.58393009]\n",
      " [0.49778675 0.53375994 0.58220545]\n",
      " [0.50187155 0.52738183 0.56338401]\n",
      " [0.50461722 0.54036282 0.5912322 ]\n",
      " [0.50658296 0.53168512 0.56907702]\n",
      " [0.50800022 0.52679804 0.55619713]\n",
      " [0.48888928 0.53370765 0.59038259]\n",
      " [0.51091546 0.52229981 0.5427481 ]\n",
      " [0.50649145 0.5335783  0.5736159 ]\n",
      " [0.49592298 0.53206865 0.57999581]\n",
      " [0.50125203 0.52241924 0.55223764]\n",
      " [0.51060935 0.52908455 0.55913215]\n",
      " [0.4925504  0.53562425 0.59143051]\n",
      " [0.4967602  0.5309018  0.5764787 ]]\n"
     ]
    },
    {
     "ename": "ValueError",
     "evalue": "operands could not be broadcast together with shapes (30,3) (30,) ",
     "output_type": "error",
     "traceback": [
      "\u001b[0;31m---------------------------------------------------------------------------\u001b[0m",
      "\u001b[0;31mValueError\u001b[0m                                Traceback (most recent call last)",
      "\u001b[0;32m<ipython-input-20-81f029bdfba9>\u001b[0m in \u001b[0;36m<module>\u001b[0;34m\u001b[0m\n\u001b[1;32m     13\u001b[0m \u001b[0;34m\u001b[0m\u001b[0m\n\u001b[1;32m     14\u001b[0m     \u001b[0;31m# Calculating error\u001b[0m\u001b[0;34m\u001b[0m\u001b[0;34m\u001b[0m\u001b[0;34m\u001b[0m\u001b[0m\n\u001b[0;32m---> 15\u001b[0;31m     \u001b[0mmse\u001b[0m \u001b[0;34m=\u001b[0m \u001b[0mmean_squared_error\u001b[0m\u001b[0;34m(\u001b[0m\u001b[0mA2\u001b[0m\u001b[0;34m,\u001b[0m \u001b[0my_train\u001b[0m\u001b[0;34m)\u001b[0m\u001b[0;34m\u001b[0m\u001b[0;34m\u001b[0m\u001b[0m\n\u001b[0m\u001b[1;32m     16\u001b[0m     \u001b[0macc\u001b[0m \u001b[0;34m=\u001b[0m \u001b[0maccuracy\u001b[0m\u001b[0;34m(\u001b[0m\u001b[0mA2\u001b[0m\u001b[0;34m,\u001b[0m \u001b[0my_train\u001b[0m\u001b[0;34m)\u001b[0m\u001b[0;34m\u001b[0m\u001b[0;34m\u001b[0m\u001b[0m\n\u001b[1;32m     17\u001b[0m     \u001b[0mresults\u001b[0m\u001b[0;34m=\u001b[0m\u001b[0mresults\u001b[0m\u001b[0;34m.\u001b[0m\u001b[0mappend\u001b[0m\u001b[0;34m(\u001b[0m\u001b[0;34m{\u001b[0m\u001b[0;34m\"mse\"\u001b[0m\u001b[0;34m:\u001b[0m\u001b[0mmse\u001b[0m\u001b[0;34m,\u001b[0m \u001b[0;34m\"accuracy\"\u001b[0m\u001b[0;34m:\u001b[0m\u001b[0macc\u001b[0m\u001b[0;34m}\u001b[0m\u001b[0;34m,\u001b[0m\u001b[0mignore_index\u001b[0m\u001b[0;34m=\u001b[0m\u001b[0;32mTrue\u001b[0m \u001b[0;34m)\u001b[0m\u001b[0;34m\u001b[0m\u001b[0;34m\u001b[0m\u001b[0m\n",
      "\u001b[0;32m<ipython-input-15-051ab1557158>\u001b[0m in \u001b[0;36mmean_squared_error\u001b[0;34m(y_pred, y_true)\u001b[0m\n\u001b[1;32m      3\u001b[0m \u001b[0;34m\u001b[0m\u001b[0m\n\u001b[1;32m      4\u001b[0m \u001b[0;32mdef\u001b[0m \u001b[0mmean_squared_error\u001b[0m\u001b[0;34m(\u001b[0m\u001b[0my_pred\u001b[0m\u001b[0;34m,\u001b[0m \u001b[0my_true\u001b[0m\u001b[0;34m)\u001b[0m\u001b[0;34m:\u001b[0m\u001b[0;34m\u001b[0m\u001b[0;34m\u001b[0m\u001b[0m\n\u001b[0;32m----> 5\u001b[0;31m     \u001b[0;32mreturn\u001b[0m \u001b[0;34m(\u001b[0m\u001b[0;34m(\u001b[0m\u001b[0my_pred\u001b[0m \u001b[0;34m-\u001b[0m \u001b[0my_true\u001b[0m\u001b[0;34m)\u001b[0m\u001b[0;34m**\u001b[0m\u001b[0;36m2\u001b[0m\u001b[0;34m)\u001b[0m\u001b[0;34m.\u001b[0m\u001b[0msum\u001b[0m\u001b[0;34m(\u001b[0m\u001b[0;34m)\u001b[0m \u001b[0;34m/\u001b[0m \u001b[0;34m(\u001b[0m\u001b[0;36m2\u001b[0m\u001b[0;34m*\u001b[0m\u001b[0my_pred\u001b[0m\u001b[0;34m.\u001b[0m\u001b[0msize\u001b[0m\u001b[0;34m)\u001b[0m\u001b[0;34m\u001b[0m\u001b[0;34m\u001b[0m\u001b[0m\n\u001b[0m\u001b[1;32m      6\u001b[0m \u001b[0;34m\u001b[0m\u001b[0m\n\u001b[1;32m      7\u001b[0m \u001b[0;32mdef\u001b[0m \u001b[0maccuracy\u001b[0m\u001b[0;34m(\u001b[0m\u001b[0my_pred\u001b[0m\u001b[0;34m,\u001b[0m \u001b[0my_true\u001b[0m\u001b[0;34m)\u001b[0m\u001b[0;34m:\u001b[0m\u001b[0;34m\u001b[0m\u001b[0;34m\u001b[0m\u001b[0m\n",
      "\u001b[0;31mValueError\u001b[0m: operands could not be broadcast together with shapes (30,3) (30,) "
     ]
    }
   ],
   "source": [
    "for itr in range(iterations):    \n",
    "    \n",
    "    # feedforward propagation\n",
    "    # on hidden layer\n",
    "    Z1 = np.dot(X_train, W1)\n",
    "    A1 = sigmoid(Z1)\n",
    "\n",
    "    # on output layer\n",
    "    Z2 = np.dot(A1, W2)\n",
    "    A2 = sigmoid(Z2)\n",
    "    \n",
    "    print(A2)\n",
    "\n",
    "    # Calculating error\n",
    "    mse = mean_squared_error(A2, y_train)\n",
    "    acc = accuracy(A2, y_train)\n",
    "    results=results.append({\"mse\":mse, \"accuracy\":acc},ignore_index=True )\n",
    "    \n",
    "    # backpropagation\n",
    "    E1 = A2 - y_train\n",
    "    dW1 = E1 * A2 * (1 - A2)\n",
    "\n",
    "    E2 = np.dot(dW1, W2.T)\n",
    "    dW2 = E2 * A1 * (1 - A1)\n",
    "\n",
    "    \n",
    "    # weight updates\n",
    "    W2_update = np.dot(A1.T, dW1) / N\n",
    "    W1_update = np.dot(X_train.T, dW2) / N\n",
    "\n",
    "    W2 = W2 - learning_rate * W2_update\n",
    "    W1 = W1 - learning_rate * W1_update\n"
   ]
  }
 ],
 "metadata": {
  "kernelspec": {
   "display_name": "Python 3",
   "language": "python",
   "name": "python3"
  },
  "language_info": {
   "codemirror_mode": {
    "name": "ipython",
    "version": 3
   },
   "file_extension": ".py",
   "mimetype": "text/x-python",
   "name": "python",
   "nbconvert_exporter": "python",
   "pygments_lexer": "ipython3",
   "version": "3.6.9"
  }
 },
 "nbformat": 4,
 "nbformat_minor": 5
}
